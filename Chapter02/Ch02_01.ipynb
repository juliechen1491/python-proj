{
 "cells": [
  {
   "cell_type": "code",
   "execution_count": 10,
   "metadata": {},
   "outputs": [],
   "source": [
    "import requests\n",
    "\n",
    "url = 'https://tw.stock.yahoo.com/q/q'\n",
    "\n",
    "payload = {\n",
    "    's': '1101'\n",
    "}\n",
    "\n",
    "headers = {\n",
    "    'user-agent': 'Mozilla/5.0 (Macintosh; Intel Mac OS X 10_14_6) AppleWebKit/537.36 (KHTML, like Gecko) Chrome/80.0.3987.149 Safari/537.36'\n",
    "}\n",
    "response = requests.get(url, params=payload, headers=headers)"
   ]
  },
  {
   "cell_type": "code",
   "execution_count": 2,
   "metadata": {
    "scrolled": true
   },
   "outputs": [
    {
     "data": {
      "text/plain": [
       "'https://tw.stock.yahoo.com/q/q?s=1101'"
      ]
     },
     "execution_count": 2,
     "metadata": {},
     "output_type": "execute_result"
    }
   ],
   "source": [
    "response.url"
   ]
  },
  {
   "cell_type": "code",
   "execution_count": 4,
   "metadata": {},
   "outputs": [
    {
     "data": {
      "text/plain": [
       "{'user-agent': 'Mozilla/5.0 (Macintosh; Intel Mac OS X 10_14_6) AppleWebKit/537.36 (KHTML, like Gecko) Chrome/80.0.3987.149 Safari/537.36', 'Accept-Encoding': 'gzip, deflate', 'Accept': '*/*', 'Connection': 'keep-alive'}"
      ]
     },
     "execution_count": 4,
     "metadata": {},
     "output_type": "execute_result"
    }
   ],
   "source": [
    "response.request.headers"
   ]
  },
  {
   "cell_type": "code",
   "execution_count": 5,
   "metadata": {},
   "outputs": [
    {
     "data": {
      "text/plain": [
       "200"
      ]
     },
     "execution_count": 5,
     "metadata": {},
     "output_type": "execute_result"
    }
   ],
   "source": [
    "response.status_code"
   ]
  },
  {
   "cell_type": "code",
   "execution_count": 6,
   "metadata": {},
   "outputs": [
    {
     "name": "stdout",
     "output_type": "stream",
     "text": [
      "成功\n"
     ]
    }
   ],
   "source": [
    "if response.status_code == 200:\n",
    "    print('成功')\n",
    "else:\n",
    "    print('失敗')"
   ]
  },
  {
   "cell_type": "code",
   "execution_count": 9,
   "metadata": {},
   "outputs": [
    {
     "name": "stdout",
     "output_type": "stream",
     "text": [
      "失敗：404 Client Error: Not Found for url: https://tw.stock.yahoo.com/q/404?s=1101\n"
     ]
    }
   ],
   "source": [
    "try:\n",
    "    response.raise_for_status()\n",
    "except Exception as err:\n",
    "    print('失敗：{}'.format(err))"
   ]
  },
  {
   "cell_type": "code",
   "execution_count": 11,
   "metadata": {},
   "outputs": [
    {
     "data": {
      "text/plain": [
       "{'Date': 'Sat, 21 Mar 2020 06:57:44 GMT', 'P3P': 'policyref=\"https://policies.yahoo.com/w3c/p3p.xml\", CP=\"CAO DSP COR CUR ADM DEV TAI PSA PSD IVAi IVDi CONi TELo OTPi OUR DELi SAMi OTRi UNRi PUBi IND PHY ONL UNI PUR FIN COM NAV INT DEM CNT STA POL HEA PRE LOC GOV\"', 'Vary': 'Accept-Encoding', 'Content-Encoding': 'gzip', 'Content-Length': '11271', 'Content-Type': 'text/html; charset=Big5', 'Age': '0', 'Server': 'ATS', 'Connection': 'keep-alive', 'Strict-Transport-Security': 'max-age=31536000', 'Set-Cookie': 'B=3tnfardf7ben8&b=3&s=8v; Max-Age=31557600; Domain=.yahoo.com; Path=/, B=3tnfardf7ben8&b=3&s=8v; expires=Sun, 21-Mar-2021 06:57:44 GMT; path=/; domain=.yahoo.com', 'Expect-CT': 'max-age=31536000, report-uri=\"http://csp.yahoo.com/beacon/csp?src=yahoocom-expect-ct-report-only\"', 'Referrer-Policy': 'no-referrer-when-downgrade', 'X-Content-Type-Options': 'nosniff', 'X-XSS-Protection': '1; mode=block', 'Content-Security-Policy': 'frame-ancestors https://*.yahoo.com https://*.yahoo.net https://*.yahoo.com.tw https://*.yahoo.com.hk https://*.yahoodns.net https://tw.discount.yahoo.net;'}"
      ]
     },
     "execution_count": 11,
     "metadata": {},
     "output_type": "execute_result"
    }
   ],
   "source": [
    "response.headers"
   ]
  },
  {
   "cell_type": "code",
   "execution_count": 12,
   "metadata": {},
   "outputs": [
    {
     "data": {
      "text/plain": [
       "'ATS'"
      ]
     },
     "execution_count": 12,
     "metadata": {},
     "output_type": "execute_result"
    }
   ],
   "source": [
    "response.headers['Server']"
   ]
  },
  {
   "cell_type": "code",
   "execution_count": 13,
   "metadata": {},
   "outputs": [
    {
     "data": {
      "text/plain": [
       "'Big5'"
      ]
     },
     "execution_count": 13,
     "metadata": {},
     "output_type": "execute_result"
    }
   ],
   "source": [
    "response.encoding"
   ]
  },
  {
   "cell_type": "code",
   "execution_count": 14,
   "metadata": {},
   "outputs": [
    {
     "data": {
      "text/plain": [
       "'<!doctype html public \"-//w3c//dtd html 4.01//en\" \"http://www.w3.org/tr/html4/strict.dtd\">\\n<html>\\n<head>\\n    <meta name=\"oath:guce:product-eu\" content=\"false\"/>\\n    <meta name=\"oath:guce:consent-host\" content=\"guce.yahoo.com\"/>\\n    <meta name=\"oath:guce:locale\" content=\"zh-Hant-TW\"/>\\n    <meta name=\"oath:guce:report-only\" content=\"false\"/>\\n    <meta name=\"oath:guce:inline-consent\" content=\"true\"/>\\n    <script src=\"https://s.yimg.com/oa/guce.js\" async></script>\\n<!-- Rapid begin. -->\\n<script language=\"JavaScript\" src=\"https://s.yimg.com/ss/rapid3.js\"></script>\\n<script language=\"JavaScript\" src=\"/__rapid-worker-1.2.js\"></script> <!-- rapid should require worker file itself, this should be unnessary, but require it anyway. -->\\n<script language=\"JavaScript\">\\n    YAHOO.i13n.WEBWORKER_FILE = \"/__rapid-worker-1.2.js\";\\n    var pageParams = { site: \\'finance\\', lang: \\'zh-Hant-TW\\', mrkt: \\'tw\\' };\\n    if (typeof articlePageParams === \\'object\\') {\\n        pageParams = articlePageParams;\\n    }\\n    var stockSiteRapid = new YAHOO.i13n.Rapid({ client_only: 1, spaceid: \\'152958415\\', keys: pageParams, tracked_mods: [], test_id: \\'\\' });\\n</script>\\n<!-- Rapid end. -->\\n\\n    <!-- Consent Manager Tag : Script -->\\n    <script type=\"text/javascript\" src=\"https://consent.cmp.oath.com/cmp.js\" async></script>\\n\\n    <!-- Consent Manager Tag : Stubbed (minified) (updated 2018-04-27T17:00) -->\\n<script type=\"text/javascript\">!function(){var e=!1;function a(e){var a=\"string\"==typeof e.data,t=e.data;if(a)try{t=JSON.parse(e.data)}catch(e){}if(t.__cmpCall){var n=t.__cmpCall;window.__cmp(n.command,n.parameter,function(t,c){var i={__cmpReturn:{returnValue:t,success:c,callId:n.callId}};e.source.postMessage(a?JSON.stringify(i):i,\"*\")})}}!function e(){if(!window.frames.__cmpLocator)if(document.body&&document.body.firstChild){var a=document.body,t=document.createElement(\"iframe\");t.style.display=\"none\",t.height=t.width=0,t.name=\"__cmpLocator\",a.insertBefore(t,a.firstChild)}else setTimeout(e,5)}(),\"function\"!=typeof __cmp&&(window.__cmp=function(){var a=arguments;if(__cmp.a=__cmp.a||[],!a.length)return __cmp.a;\"ping\"===a[0]?a[2]({gdprAppliesGlobally:e,cmpLoaded:!1},!0):__cmp.a.push([].slice.apply(a))},__cmp.msgHandler=a,window.addEventListener?window.addEventListener(\"message\",a,!1):window.attachEvent(\"onmessage\",a))}();</script>\\n<!-- End Consent Manager Tag : Stubbed (minified) --> \\n\\n    <meta http-equiv=\"content-type\" content=\"text/html; charset=utf-8\" />\\n\\n    <script type=\"text/javascript\">\\n        window.__cmp(\\'init\\');\\n\\n        window.__cmp(\\'getConsentData\\', null, function (result, success) {\\n        // consentData contains the base64-encoded consent string\\n        var consentData = result.consentData;\\n   \\n        // gdprApplies specifies whether the user is in EU jurisdiction\\n        var gdprApplies = result.gdprApplies;\\n        console.log(\"getConsentData result:\" + JSON.stringify(result, true));\\n        if ( success ) {\\n            console.log(\\'call getConsentData success\\');\\n        } else {\\n            console.log(\\'call getConsentData fail\\');\\n        }\\n        // pass these 2 values to all ad / pixel calls\\n        // window.__cmp(\\'getVendorConsents\\', null, function( result, success) {\\n        //     if ( success ) {\\n        //         console.log(\\'call getVendorConsents success\\');\\n        //     } else {\\n        //         console.log(\\'call getVendorConsents fail\\');\\n        //     }\\n        //     console.log(\"getVendorConsents result:\" + JSON.stringify(result, true));\\n        // });\\n    });\\n    </script>\\n\\n\\n\\n<meta http-equiv=\"Content-Type\" content=\"text/html; charset=big5\">\\n<meta name=\"application-name\" content=\"Yahoo!奇摩股市\"/>\\n<meta name=\"msapplication-TileColor\" content=\"#7b0099\"/>\\n<meta name=\"msapplication-TileImage\" content=\"https://s.yimg.com/f/i/tw/stock/tw_stock_icon_pin.png\"/>\\n<title>Yahoo!奇摩股市</title>\\n<link rel=\"stylesheet\" type=\"text/css\" href=\"https://s.yimg.com/f/i/tw/hp/masthead/yhtw_masthead_standard.css\" media=\"screen, print\" />\\n<link rel=\"stylesheet\" type=\"text/css\" href=\"https://s.yimg.com/f/i/tw/hp/masthead/yhtw_masthead_12.css\" media=\"screen, print\" />\\n<link rel=\"stylesheet\" type=\"text/css\" href=\"https://s.yimg.com/f/i/tw/stock/revampe/css_1960_min.css\" media=\"screen, print\" />\\n<link rel=\"stylesheet\" type=\"text/css\" href=\"https://s.yimg.com/f/i/tw/stock/img06/stock_wd.css\" media=\"screen, print\" />\\n<link rel=\"stylesheet\" type=\"text/css\" href=\"https://s.yimg.com/f/i/tw/stock/stock_print_1_2.css\" media=\"print\" />\\n<link href=\"https://s.yimg.com/f/i/tw/hp/Universal_header/uh_bt3.css\" type=\"text/css\" rel=\"stylesheet\"/>\\n<link href=\"https://s.yimg.com/f/i/tw/stock/revampe/ystock_uh_1_1_min.css\" type=\"text/css\" rel=\"stylesheet\"/>\\n<link href=\"https://s.yimg.com/ud/others/stock/gemini-v1.css\" type=\"text/css\" rel=\"stylesheet\"/>\\n<script type=\"text/JavaScript\">\\n<!--\\nfunction MM_swapImgRestore() { //v3.0\\n var i,x,a=document.MM_sr; for(i=0;a&&i<a.length&&(x=a[i])&&x.oSrc;i++) x.src=x.oSrc;\\n}\\nfunction MM_preloadImages() { //v3.0\\n var d=document; if(d.images){ if(!d.MM_p) d.MM_p=new Array();\\n var i,j=d.MM_p.length,a=MM_preloadImages.arguments; for(i=0; i<a.length; i++)\\n if (a[i].indexOf(\"#\")!=0){ d.MM_p[j]=new Image; d.MM_p[j++].src=a[i];}}\\n}\\nfunction MM_findObj(n, d) { //v4.01\\n var p,i,x; if(!d) d=document; if((p=n.indexOf(\"?\"))>0&&parent.frames.length) {\\n d=parent.frames[n.substring(p+1)].document; n=n.substring(0,p);}\\n if(!(x=d[n])&&d.all) x=d.all[n]; for (i=0;!x&&i<d.forms.length;i++) x=d.forms[i][n];\\n for(i=0;!x&&d.layers&&i<d.layers.length;i++) x=MM_findObj(n,d.layers[i].document);\\n if(!x && d.getElementById) x=d.getElementById(n); return x;\\n}\\nfunction MM_swapImage() { //v3.0\\n var i,j=0,x,a=MM_swapImage.arguments; document.MM_sr=new Array; for(i=0;i<(a.length-2);i+=3)\\n if ((x=MM_findObj(a[i]))!=null){document.MM_sr[j++]=x; if(!x.oSrc) x.oSrc=x.src; x.src=a[i+2];}\\n}\\n//-->\\n</script>\\n<style type=\"text/css\">\\n<!--\\n.style1 {\\n color: #000000;\\n font-family: \"新細明體\";\\n}\\n.style2 {color: #4f5d70}\\n.style4 {color: #009900}\\n.style5 {color: #FF0000}\\n.style8 {font-size: 10pt;}\\n.style9 {color: #000000; }\\n.style12 {line-height: 25pt; font-family: \"新細明體\", mingliu, taipei;}\\n.style13 {color: #4f5d70}\\n-->\\n</style>\\n<script language=\"JavaScript\" src=\"https://s.yimg.com/f/i/tw/hp/wd/wd_20050720.js\"></script>\\n<!--\\n<script language=\"JavaScript\" src=\"https://s.yimg.com/lq/lib/common/utils/2/yahoo_2.0.0-b2.js\" ></script>\\n<script language=\"JavaScript\" src=\"https://s.yimg.com/lq/lib/common/utils/2/dom_2.0.0-b2.js\" ></script>\\n<script language=\"JavaScript\" src=\"https://s.yimg.com/lq/lib/common/utils/2/event_2.0.0-b2.js\" ></script>\\n<script language=\"JavaScript\" src=\"https://s.yimg.com/lq/lib/common/utils/2/dragdrop_2.0.0-b2.js\" ></script>\\n-->\\n<script language=\"JavaScript\" src=\"https://s.yimg.com/f/i/tw/hp/wd/wd_20050720.js\"></script>\\n<script language=\"JavaScript\" src=\"https://s.yimg.com/f/i/tw/stock/yui2/yahoo_200_b2.js\" ></script>\\n<script language=\"JavaScript\" src=\"https://s.yimg.com/f/i/tw/stock/yui2/dom_200_b2.js\" ></script>\\n<script language=\"JavaScript\" src=\"https://s.yimg.com/f/i/tw/stock/yui2/event_200_b2.js\" ></script>\\n<script language=\"JavaScript\" src=\"https://s.yimg.com/f/i/tw/stock/yui2/dragdrop_200_b2.js\" ></script>\\n<script language=\"JavaScript\" src=\"https://s.yimg.com/f/i/tw/stock/img06/stk_wd.js\"></script>\\n<script language=\"javascript\" src=\"https://s.yimg.com/f/i/tw/stock/img06/stock22.js\"></script>\\n<script language=\"javascript\" src=\"https://s.yimg.com/f/i/tw/stock/img06/auth.js\"></script>\\n<script language=\"javascript\" src=\"https://s.yimg.com/f/i/tw/mc/mc.js\"></script>\\n<script language=\"javascript\" src=\"https://s.yimg.com/f/i/tw/stock/img06/quotelist.js\"></script>\\n<script language=\"javascript\" src=\"https://s.yimg.com/f/i/tw/stock/img06/tsc22_r1826.js\"></script>\\n<script type=\"text/javascript\" src=\"https://sec.yimg.com/us.js.yimg.com/lib/common/utils/2/connection_2.1.0.js\" ></script>\\n<script type=\\'text/javascript\\'>\\n !window.YUI && document.write(\"<script type=\\\\\"text/javascript\\\\\" src=\\\\\"https://yui-s.yahooapis.com/combo?3.5.1/yui/yui-min.js\\\\\">\"+\"</scr\"+\"ipt>\");\\n</script></head>\\n              <style type=\\'text/css\\'>\\n .ad_slug_table TD { font-size:0px;cursor:default; }\\n .ad_slug_table TD SPAN { font-size:0px;cursor:default; }\\n .ad_slug_table TD SPAN FONT { font-size:10px;cursor:default; }\\n .ad_slug_table TD SPAN.can_ad_slug { font-size:11px;text-align:right }\\n</style>\\n              <script type=\\'text/javascript\\' src=\\'https://s.yimg.com/rq/darla/3-16-2/js/g-r-min.js\\'></script>\\n              <script type=\"text/javascript\">\\n                if (!window.DARLA_CONFIG) {\\n                  DARLA_CONFIG = {\"useYAC\":0,\"usePE\":0,\"servicePath\":\"https:\\\\/\\\\/tw.stock.yahoo.com\\\\/sdarla\\\\/php\\\\/fc.php\",\"xservicePath\":\"\",\"beaconPath\":\"https:\\\\/\\\\/tw.stock.yahoo.com\\\\/sdarla\\\\/php\\\\/b.php\",\"renderPath\":\"\",\"allowFiF\":false,\"srenderPath\":\"https:\\\\/\\\\/s.yimg.com\\\\/rq\\\\/darla\\\\/3-16-2\\\\/html\\\\/r-sf.html\",\"renderFile\":\"https:\\\\/\\\\/s.yimg.com\\\\/rq\\\\/darla\\\\/3-16-2\\\\/html\\\\/r-sf.html\",\"sfbrenderPath\":\"https:\\\\/\\\\/s.yimg.com\\\\/rq\\\\/darla\\\\/3-16-2\\\\/html\\\\/r-sf.html\",\"msgPath\":\"https:\\\\/\\\\/fc.yahoo.com\\\\/unsupported-1946.html\",\"cscPath\":\"https:\\\\/\\\\/s.yimg.com\\\\/rq\\\\/darla\\\\/3-16-2\\\\/html\\\\/r-csc.html\",\"root\":\"sdarla\",\"edgeRoot\":\"https:\\\\/\\\\/s.yimg.com\\\\/rq\\\\/darla\\\\/3-16-2\",\"sedgeRoot\":\"https:\\\\/\\\\/s.yimg.com\\\\/rq\\\\/darla\\\\/3-16-2\",\"version\":\"3-16-2\",\"tpbURI\":\"\",\"hostFile\":\"https:\\\\/\\\\/s.yimg.com\\\\/rq\\\\/darla\\\\/3-16-2\\\\/js\\\\/g-r-min.js\",\"beaconsDisabled\":true,\"rotationTimingDisabled\":true,\"fdb_locale\":\"\\\\u60a8\\\\u70ba\\\\u4ec0\\\\u9ebc\\\\u4e0d\\\\u559c\\\\u6b61\\\\u9019\\\\u5247\\\\u5ee3\\\\u544a\\\\uff1f|\\\\u5ee3\\\\u544a\\\\u5167\\\\u5bb9\\\\u4ee4\\\\u4eba\\\\u53cd\\\\u611f|\\\\u5176\\\\u4ed6|\\\\u611f\\\\u8b1d\\\\u60a8\\\\u5354\\\\u52a9\\\\u6211\\\\u5011\\\\u6539\\\\u5584\\\\u60a8\\\\u7684 Yahoo\\\\u5947\\\\u6469\\\\u9ad4\\\\u9a57|\\\\u5ee3\\\\u544a\\\\u5167\\\\u5bb9\\\\u8207\\\\u6211\\\\u6c92\\\\u4ec0\\\\u9ebc\\\\u95dc\\\\u806f|\\\\u4f7f\\\\u4eba\\\\u5206\\\\u5fc3|\\\\u6211\\\\u4e0d\\\\u559c\\\\u6b61\\\\u9019\\\\u652f\\\\u5ee3\\\\u544a|\\\\u9001\\\\u51fa|\\\\u5b8c\\\\u6210|\\\\u70ba\\\\u4ec0\\\\u9ebc\\\\u6211\\\\u6703\\\\u770b\\\\u898b\\\\u5ee3\\\\u544a\\\\uff1f|\\\\u9032\\\\u4e00\\\\u6b65\\\\u4e86\\\\u89e3\\\\u60a8\\\\u7684\\\\u610f\\\\u898b\\\\u3002|\\\\u60f3\\\\u8981\\\\u4f7f\\\\u7528\\\\u7121\\\\u5ee3\\\\u544a\\\\u6536\\\\u4ef6\\\\u5323\\\\u55ce\\\\uff1f\\\\u5feb\\\\u4f86\\\\u5347\\\\u7d1a Yahoo Mail Pro\\\\uff01|\\\\u7acb\\\\u5373\\\\u5347\\\\u7d1a\",\"lang\":\"zh-Hant-TW\"};\\n                }\\n                            DARLA_CONFIG.events = {\\n                                         \\'renderN\\':\\n                            {\\n                                name: \\'renderN\\',\\n                                ps: \\'N\\',\\n                                sp: 152958415,\\n                                npv: 1,\\n                                ssl: 1\\n                            },                             \\'renderLREC\\':\\n                            {\\n                                name: \\'renderLREC\\',\\n                                ps: \\'LREC\\',\\n                                sp: 152958415,\\n                                npv: 1,\\n                                ssl: 1\\n                            },\\n                    \\'AUTO\\':\\n                      {\\n                        name: \"AUTO\",\\n                        sp: 152958415,\\n                        autoStart: 1,\\n                        autoIV:1,\\n                        ps: \"N,LREC\",\\n                        ssl: 1,\\n                        secure: 1,\\n                        ref: document.location.href // to support testing ads.\\n                      }\\n                    };\\n                               DARLA_CONFIG.positions = {\\n                                          N: {wcpx: 1, hcpx: 1, dest: \\'tgtN\\', clean: \\'boxN\\' ,fdb: { \"on\": 1 }, metaSize: true},\\n                       LREC: {wcpx: 1, hcpx: 1, dest: \\'tgtLREC\\', clean: \\'boxLREC\\' ,fdb: { \"on\": 1 }, metaSize: true}\\n               };\\n              </script><body vlink=#3948CC style=\"margin-top:0px\">\\n<center>\\n<script language=\"javascript\" src=\"https://s.yimg.com/uc/sf/latest/js/safe.min.js\"></script>\\n<!--BEGIN:Universal Master Header-->\\n<style>\\n  body {\\n    margin: 0;\\n  }\\n  .uh .eyebrow>li {\\n    display: inline-block;\\n    margin: 1px 32px 0 0;\\n    font-size: 13px;\\n    font-weight: normal;\\n  }\\n  .uh .eyebrow>li>a {\\n    color: #fff;\\n    text-decoration: none;\\n  }\\n  .uh .eyebrow>li>a:hover {\\n    text-decoration: underline;\\n  }\\n  .uh .eyebrow .more-anchor {\\n    color: #fff;\\n  }\\n  .uh .eyebrow .more-anchor:hover {\\n    color: #1d1da3;\\n    background-color: #fff;\\n  }\\n  .uh .eyebrow .more-anchor svg {\\n    fill: #fff;\\n  }\\n  .uh .eyebrow .more-anchor:hover svg {\\n    fill: #1d1da3;\\n  }\\n  .uh .eyebrow .more-list {\\n    display: none;\\n  }\\n  .uh .eyebrow .more-list li {\\n    padding-bottom: 10px;\\n  }\\n  .uh .eyebrow .more-anchor:hover .more-list{\\n    display: block;\\n  }\\n  .uh .header input[type=text] {\\n    width: 250px;\\n  }\\n  .uh.broad .header input[type=text] {\\n    width: 400px;\\n  }\\n  .uh .header .search-button {\\n    border-width: 0;\\n    border-bottom: 2px solid #21487f;\\n    border-radius: 4px;\\n    width: 80px;\\n    height: 35px;\\n    font: 16px \"Helvetica Neue\",Helvetica,Arial,sans-serif;\\n    color: #fff;\\n    background-color: #3775dd;\\n    cursor: pointer;\\n    outline: none;\\n  }\\n  .uh.broad .header .search-button {\\n    padding: 0 14px;\\n    width: 110px;\\n  }\\n  .uh .header .login-button {\\n    color: #400090;\\n  }\\n  .uh .header .login-button:hover {\\n    color: #fff;\\n    background-color: #400090;\\n  }\\n  .uh .header .logout-link {\\n    color: #26282a;\\n  }\\n  .uh .header .logout-link:hover {\\n    color: #0078ff;\\n  }\\n  .uh .header .profile .profile-box {\\n    display: none;\\n  }\\n  .uh .header .profile:hover .profile-box {\\n    display: inline-block;\\n  }\\n</style>\\n<div id=\"uh\" class=\"uh \" style=\"position: relative; z-index: 21; margin-bottom: 10px;\">\\n  <ul class=\"eyebrow\" style=\"margin: 0; padding: 0; height: 22px; font-size: 0; text-align: left; white-space: nowrap; background-color: #2d1152;\">\\n    <li style=\"margin-left: 10px;\">\\n      <a href=\"https://tw.yahoo.com/\">\\n        <div>\\n          <svg width=\"16\" height=\"16\" style=\"margin-top: 1px; vertical-align: top; fill: #fff; stroke-width: 0;\" viewBox=\"0 0 32 32\" data-icon=\"home\">\\n            <path d=\"M16.153 3.224L0 16.962h4.314v11.814h9.87v-8.003h3.934v8.003h9.84V16.962H32\" data-reactid=\"10\"></path>\\n          </svg>\\n          <span>首頁</span>\\n        </div>\\n      </a>\\n    </li>\\n    <li><a href=\"https://tw.mail.yahoo.com/?.intl=tw&amp;.lang=zh-Hant-TW\">信箱</a></li>\\n    <li><a href=\"https://tw.news.yahoo.com/\">新聞</a></li>\\n    <li><a href=\"http://tw.stock.yahoo.com/\">股市</a></li>\\n    <li><a href=\"https://tw.news.yahoo.com/weather/\">氣象</a></li>\\n    <li><a href=\"https://tw.sports.yahoo.com/\">運動</a></li>\\n    <li><a href=\"https://tw.video.yahoo.com/\">Yahoo TV</a></li>\\n    <li><a href=\"http://yahoomode.tumblr.com/yahooapp/\">App下載</a></li>\\n    <li><a href=\"https://tw.buy.yahoo.com/\">購物中心</a></li>\\n    <li><a href=\"https://tw.mall.yahoo.com/\">商城</a></li>\\n    <li><a href=\"https://tw.bid.yahoo.com/\">拍賣</a></li>\\n    <li>\\n      <div class=\"more-anchor rapidnofollow\" style=\"position: relative; z-index: 1; margin-left: -10px; outline: none; cursor: pointer;\">\\n        <div style=\"padding: 0 10px;\">\\n          <span>更多</span>\\n          <svg width=\"8\" height=\"8\" style=\"margin-left: 5px; vertical-align: middle;\" viewBox=\"0 0 512 512\" data-icon=\"CoreArrowDown\">\\n            <path d=\"M500.77 131.432L477.53 108.18c-14.45-14.55-40.11-14.55-54.51 0L255.845 275.363 88.582 108.124c-15.015-14.874-39.363-14.874-54.42.108L10.94 131.486c-14.58 14.44-14.58 40.11-.033 54.442l217.77 217.845c15.004 14.82 39.33 14.874 54.42-.108L500.88 185.82c14.818-14.982 14.87-39.298-.11-54.388z\"></path>\\n          </svg>\\n        </div>\\n        <div class=\"more-list\" style=\"position: absolute; color: #1d1da3; background-color: #fff; box-shadow: rgba(0, 0, 0, 0.2) 0px 4px 7px\">\\n          <ul style=\"list-style: none; padding: 10px; text-align: left;\">\\n            <li><a class=\"D(b) Py(3px)\" href=\"https://tw.answers.yahoo.com/\">知識+</a></li>\\n            <li><a class=\"D(b) Py(3px)\" href=\"https://autos.yahoo.com.tw/\">汽車機車</a></li>\\n            <li><a class=\"D(b) Py(3px)\" href=\"https://movies.yahoo.com.tw/\">電影</a></li>\\n            <li><a class=\"D(b) Py(3px)\" href=\"https://tw.dictionary.yahoo.com/\">字典</a></li>\\n            <li><a class=\"D(b) Py(3px)\" href=\"https://travel.yahoo.com.tw/\">旅遊</a></li>\\n            <li><a class=\"D(b) Py(3px)\" href=\"https://tw.money.yahoo.com/\">理財</a></li>\\n            <li><a class=\"D(b) Py(3px)\" href=\"https://house.yahoo.com.tw/\">房地產</a></li>\\n            <li><a class=\"D(b) Py(3px)\" href=\"https://style.yahoo.com.tw/\">時尚美妝</a></li>\\n            <li><a class=\"D(b) Py(3px)\" href=\"https://tw.discount.yahoo.net/\">折扣城</a></li>\\n            <li><a class=\"D(b) Py(3px)\" href=\"https://tw.news.yahoo.com/entertainment\">娛樂</a></li>\\n            <li><a class=\"D(b) Py(3px)\" href=\"https://games.yahoo.com.tw\">遊戲</a></li>\\n          </ul>\\n        </div>\\n      </div>\\n    </li>\\n  </ul>\\n  <div class=\"header\" style=\"display: flex; height: 68px; align-items: center; width: 750px\">    <a data-ylk=\"elm:btn;itc:0;slk:yahoo;subsec:logo\" href=\"https://tw.stock.yahoo.com/\" style=\"display: inline-block; width: 126px; height: 40px; background-size: cover; background-image: url(https://s.yimg.com/cv/apiv2/twstock/img/TW_desktop_stock_home@2x.png); margin-right: 24px;\"></a>\\n    <div style=\"flex-grow: 1; text-align: left;\">\\n      <form action=\"https://tw.search.yahoo.com/search\" method=\"get\" accept-charset=\"utf-8\" style=\"margin-bottom: 0;\">\\n        <input type=\"hidden\" name=\"fr\" value=\"ush1-finance\">\\n        <input type=\"text\" placeholder=\"搜尋\" name=\"p\" style=\"box-sizing: content-box; padding: 7px 15px; height: 17px; font-size: 15px; font-family: \\'Helvetica Neue\\',Helvetica,Arial,sans-serif;\"/>\\n        <button class=\"search-button\" type=\"submit\">搜尋</button>\\n      </form>\\n    </div>\\n    <div>\\n      <a data-ylk=\"elm:btn;itc:0;slk:signin;subsec:profile\" class=\"login-button\" style=\"display: inline-block; border-radius: 5px; border: 2px solid #400090; width: 78px; text-align: center; vertical-align: middle; font-size: 14px; text-decoration: none;\" href=\"https://login.yahoo.com/config/login?.src=twfinance&.intl=tw&.lang=zh-Hant-TW&.done=https%3A%2F%2Ftw.stock.yahoo.com%2F\">登入</a>\\n      <a data-ylk=\"elm:btn;itc:0;slk:mail;subsec:mail\" href=\"https://mail.yahoo.com/?.intl=tw&.lang=zh-Hant-TW\" style=\"color: #400090; text-decoration: none;\">\\n        <svg width=\"30\" style=\"fill: #400090; vertical-align: middle;\" height=\"35\" viewBox=\"0 0 512 512\">\\n          <path d=\"M460.586 91.31H51.504c-10.738 0-19.46 8.72-19.46 19.477v40.088l224 104.03 224-104.03v-40.088c0-10.757-8.702-19.478-19.458-19.478M32.046 193.426V402.96c0 10.758 8.72 19.48 19.458 19.48h409.082c10.756 0 19.46-8.722 19.46-19.48V193.428l-224 102.327-224-102.327z\"></path>\\n        </svg>\\n        <b style=\"font-size: 14px; font-weight: 400; vertical-align: middle;\">信箱</b>\\n      </a>\\n    </div>\\n  </div>\\n</div>\\n <!--END:Universal Master Header-->\\n<script type=\\'text/javascript\\'>\\nfunction onProfileClick() {\\n  if (stockSiteRapid) {\\n    stockSiteRapid.beaconClick(\\'uh\\', \\'profile\\', \\'15\\', { elm: \\'btn\\', itc: 1, subsec: \\'profile\\' });\\n  }\\n}\\n\\nfunction onProfileHover() {\\n  if (stockSiteRapid) {\\n    stockSiteRapid.beaconClick(\\'uh\\', \\'profile\\', \\'15\\', { elm: \\'btn\\', itc: 2, subsec: \\'profile\\' });\\n  }\\n}\\n\\nvar tracked_mods = {\\n  \\'uh\\': \\'uh\\'\\n};\\nstockSiteRapid.addModules(tracked_mods);\\n</script>           <div id=\"boxN\"><div id=\"tgtN\"></div></div><script lang=\"text/javascript\">\\n<!--\\nvar redirect = \"https://tw.rd.yahoo.com/referurl/stock/other\";\\nfunction stkClearMe(control)\\n{\\n control.value = \\'\\';\\n control.style.color = \"black\";\\n}\\nfunction stkRestore(control, str)\\n{\\n if (control.value == \\'\\') {control.value = str; control.style.color = \"#a8a8a8\";};\\n}\\nfunction stockmenu_submit (form)\\n{\\n if (form.stock_id.value == \\'輸入台股代號/名稱\\')\\n {\\n return false;\\n }\\n form.submit();\\n}\\n//-->\\n</script>\\n<link rel=\"stylesheet\" href=\"https://s.yimg.com/cv/apiv2/twstock/stockNavSearchBar-style_1547006034898.css\">\\n<div id=\"stockNavSearchBar\" style=\"width: 750px\">    <nav id=\"ystkglonav\">\\n        <ul class=\"desktopNav\">\\n            <li class=\"parent\"><a class=\"navLink\" href=https://tw.stock.yahoo.com/>首頁</a></li><li class=\"parent\"><a class=\"navLink\" href=https://tw.stock.yahoo.com/pf/mypf>投資組合</a></li><li class=\"parent\"><a class=\"navLink current\" href=https://tw.stock.yahoo.com/h/getclass.php>當日行情</a><ul class=\"child\"><li><a class=\"dropLink\" href=https://tw.stock.yahoo.com/d/i/major.html>法人進出</a></li><li><a class=\"dropLink\" href=https://tw.stock.yahoo.com/d/i/cap.html>成交比重</a></li><li><a class=\"dropLink\" href=https://tw.stock.yahoo.com/d/i/credit.html>資券餘額</a></li><li><a class=\"dropLink\" href=https://tw.stock.yahoo.com/d/i/hot.html>熱門排行</a></li></ul></li><li class=\"parent\"><a class=\"navLink\" href=https://tw.stock.yahoo.com/s/tse.php>大盤</a></li><li class=\"parent\"><a class=\"navLink\" href=https://tw.stock.yahoo.com/s/nine.php>類股</a></li><li class=\"parent\"><a class=\"navLink\" href=https://tw.stock.yahoo.com/future/>期權</a></li><li class=\"parent\"><a class=\"navLink\" href=https://tw.stock.yahoo.com/hkcn/>港滬深股</a></li><li class=\"parent\"><a class=\"navLink\" href=https://tw.stock.yahoo.com/us/>美股</a></li><li class=\"parent\"><a class=\"navLink\" href=https://tw.stock.yahoo.com/news_index.html>新聞</a><ul class=\"child\"><li><a class=\"dropLink\" href=https://tw.tv.yahoo.com/stock-watch/>五分鐘看台股</a></li><li><a class=\"dropLink\" href=https://tw.stock.yahoo.com/tw-market>台股盤勢</a></li><li><a class=\"dropLink\" href=https://tw.stock.yahoo.com/funds-news>基金動態</a></li><li><a class=\"dropLink\" href=https://tw.stock.yahoo.com/intl-markets>國際財經</a></li><li><a class=\"dropLink\" href=https://tw.stock.yahoo.com/personal-finance>小資理財</a></li><li><a class=\"dropLink\" href=https://tw.stock.yahoo.com/column>專家專欄</a></li><li><a class=\"dropLink\" href=https://tw.stock.yahoo.com/research>研究報告</a></li></ul></li><li class=\"parent\"><a class=\"navLink\" href=https://tw.screener.finance.yahoo.net/screener/basic.html>選股</a></li><li class=\"parent\"><a class=\"navLink\" href=http://bit.ly/2MVn1Em>理財</a></li><li class=\"parent\"><a class=\"navLink\" href=http://bit.ly/2YWQgJw>基金</a></li>        </ul>\\n    </nav>\\n    <div id=\"stockSearchBar\">\\n        <div class=\"barContainer\" style=\"display: inline-table\">\\n            <form style=\"display: inline; margin: 0; margin-block-end: 0\" name=\"menu\" action=\"https://tw.stock.yahoo.com/h/stockmenu.php\">\\n                <div class=\"searchInput\" style=\"background: #fff;\">\\n                    <img id=\"searchIcon\" width=\"16px\" src=\"https://s.yimg.com/cv/apiv2/twstock/icon-search.png\" srcset=\"https://s.yimg.com/cv/apiv2/twstock/icon-search@2x.png 2x, https://s.yimg.com/cv/apiv2/twstock/icon-search@3x.png 3x\"/>\\n                    <input id=\"stock_id\" type=\"text\" name=\"stock_id\" placeholder=\"搜尋台股美股代號/名稱\"/>\\n                    <img id=\"closeBtn\" src=\"https://s.yimg.com/cv/apiv2/twstock/cancel.png\" srcset=\"https://s.yimg.com/cv/apiv2/twstock/cancel@2x.png 2x, https://s.yimg.com/cv/apiv2/twstock/cancel@3x.png 3x\" style=\"cursor: pointer; display: none\"/>\\n                </div>\\n            </form>\\n            <div class=\"stockSearch\">\\n                <a href=\"javascript:open_win(\\'/h/kimosel.php\\',\\'menu\\',\\'stock_id\\',\\'stock_name\\')\">\\n                    <img src=\"https://s.yimg.com/cv/apiv2/twstock/stock-list_1543909743394.png\" srcset=\"https://s.yimg.com/cv/apiv2/twstock/stock-list@2x_1543909743407.png 2x, https://s.yimg.com/cv/apiv2/twstock/stock-list@3x_1543909743401.png 3x\"/>\\n                    <span>台股代號查詢</span>\\n                </a>\\n            </div>\\n            <div class=\"stockInfos\"><span id=marketTimeCountDown>台股、美股皆已收盤</span><a href=\"javascript:window.location.reload();\">更新</a></div>        </div>\\n    </div>\\n</div>\\n<script type=\"text/javascript\" charset=\"UTF-8\">\\n    function submitStockMenuForm(symbol) {\\n        var stockForm = document.querySelector(\\'#stockSearchBar .barContainer\\').children[0];\\n        stockForm.stock_id.value = symbol;\\n        stockForm.submit();\\n    }\\n    var stockInput = document.querySelector(\\'#stockSearchBar #stock_id\\');\\n    var closeBtn = document.querySelector(\\'#stockSearchBar #closeBtn\\');\\n    stockInput.addEventListener(\\'input\\', function(e) {\\n        if (stockInput.value.length) {\\n            closeBtn.style.display= \"block\"\\n        } else {\\n            closeBtn.style.display= \"none\"\\n        }\\n    });\\n    closeBtn.addEventListener(\\'click\\', function() {\\n        stockInput.value = \\'\\';\\n        closeBtn.style.display= \"none\"\\n    });\\n\\n    var marketTimeCountDownElem = document.getElementById(\\'marketTimeCountDown\\');\\n    var countDownText = marketTimeCountDownElem.innerText;\\n    var time = countDownText.match(/\\\\d+/g);\\n\\n    if (time.length === 2) {\\n        var expires = new Date();\\n        expires.setHours(expires.getHours() + parseInt(time[0]));\\n        expires.setMinutes(expires.getMinutes() + parseInt(time[1]));\\n        var expiresTime = expires.getTime();\\n\\n        var countdownTimer = setInterval(function() {\\n            var now = new Date().getTime();\\n            var distance = parseInt((expiresTime - now) / 1000);\\n            if (distance > 0) {\\n                var hours = parseInt(distance / 3600);\\n                distance = (distance % 3600);\\n                var minutes = parseInt(distance / 60);\\n                var template = countDownText.replace(/\\\\d+/g, \"{{timeSlot}}\");\\n                template = hours === 0 ? template.replace(\\'{{timeSlot}}小時\\', \\'\\') : template.replace(\\'{{timeSlot}}\\', hours);\\n                template = minutes === 0 ? template.replace(\\'{{timeSlot}}分鐘\\', \\'\\') : template.replace(\\'{{timeSlot}}\\', minutes);\\n                marketTimeCountDownElem.innerHTML = template;\\n            } else {\\n                clearInterval(countdownTimer);\\n                marketTimeCountDownElem.innerHTML = \\'\\';\\n            }\\n        }, 30000);\\n    }\\n</script>\\n<script src=\"https://s.yimg.com/nb/tw_stock_frontend/scripts/StockNavSearchBar/autocomplete-bar.c1ec85c9.bundle.js\" type=\"text/javascript\" charset=\"UTF-8\" defer></script>\\n\\n        <script language=\"javascript\">\\n\\t\\t<!-- \\n                document.menu.stock_id.value=\"1101\";\\n\\n\\t\\t//-->\\n\\t</script>\\n\\t\\t\\t\\t\\t \\n<br>\\n    <table width=750 border=0 cellpadding=1 cellspacing=0>\\n        <tr bgcolor=#FFF0C1>\\n\\t<td width=540 align=left>\\n\\t    &nbsp; \\n\\t</td> \\n\\t<td width=160 align=right><font color=#3333FF class=tt>\\u3000資料日期: 109/03/20</font></td>\\n\\t</tr>\\n    </table>\\n<table border=0 cellSpacing=0 cellpadding=\"0\" width=\"750\">\\n  <tr>\\n    <td>\\n      <table border=2 width=\"750\">\\n        <tr bgcolor=#fff0c1>\\n          <th align=center >股票<br>代號</th>\\n          <th align=center width=\"55\">時間</th>\\n          <th align=center width=\"55\">成交</th>\\n\\n          <th align=center width=\"55\">買進</th>\\n          <th align=center width=\"55\">賣出</th>\\n          <th align=center width=\"55\">漲跌</th>\\n          <th align=center width=\"55\">張數</th>\\n          <th align=center width=\"55\">昨收</th>\\n          <th align=center width=\"55\">開盤</th>\\n\\n          <th align=center width=\"55\">最高</th>\\n          <th align=center width=\"55\">最低</th>\\n          <th align=center>個股資料</th>\\n        </tr>\\n        <tr>\\n          <td align=center width=105><a\\n\\t  href=\"/q/bc?s=1101\">1101台泥</a><br><a href=\"/pf/pfsel?stocklist=1101;\"><font size=-1>加到投資組合</font><br></a></td>\\n                <td align=\"center\" bgcolor=\"#FFFfff\" nowrap>14:30</td>\\n                <td align=\"center\" bgcolor=\"#FFFfff\" nowrap><b>36.95</b></td>\\n                <td align=\"center\" bgcolor=\"#FFFfff\" nowrap>36.95</td>\\n                <td align=\"center\" bgcolor=\"#FFFfff\" nowrap>-</td>\\n                <td align=\"center\" bgcolor=\"#FFFfff\" nowrap><font color=#ff0000>▲3.35\\n                <td align=\"center\" bgcolor=\"#FFFfff\" nowrap>32,770</td>\\n                <td align=\"center\" bgcolor=\"#FFFfff\" nowrap>33.60</td>\\n                <td align=\"center\" bgcolor=\"#FFFfff\" nowrap>34.15</td>\\n                <td align=\"center\" bgcolor=\"#FFFfff\" nowrap>36.95</td>\\n                <td align=\"center\" bgcolor=\"#FFFfff\" nowrap>34.15</td>\\n          <td align=center width=137 class=\"tt\">\\n    <a href=\"/q/ts?s=1101\">成交彙整</a><br><a href=\"/q/ta?s=1101\">技術</a>\\u3000<a href=\\'/q/h?s=1101\\'>新聞</a><a href=\\'/d/s/company_1101.html\\'><br>基本</a>\\u3000<a href=\\'/d/s/credit_1101.html\\'>籌碼</a><a target=\\'_blank\\' style=\\'color:red\\' href=\\'https://tw.rd.yahoo.com/referurl/stock/other/SIG=125v47s73/**https://tw.screener.finance.yahoo.net/screener/check.html?symid=1101\\'><br>個股健診</a></font></td>        </tr>\\n      </table>\\n    </td>\\n  </tr>\\n</table>\\n<br>\\n<div class=\"addendum\"></span>\\n <div class=\"news\" id=\"researchNews\">\\n <div class=\"hd\">\\n <label class=\"stock\">個股新聞與研究報告</label>\\n <span class=\"more\"><a href=\"https://tw.stock.yahoo.com/q/h?s=1101\" data-ylk=\"slk:more;itc:0;sec:symbol-news;elm:itm;elmt:link\">&raquo; 更多</a></span>\\n </div>\\n <div class=\"bd quote\">\\n <ul>\\n <li>\\n <a data-ylk=\"itc:0;sec:symbol-news;elm:hdln;elmt:ct;g:9c39a561-cfee-3635-baa1-2b5ee3e61b5a\" href=\"/news/%E7%86%B1%E9%96%80%E6%97%8F%E7%BE%A4-%E5%9C%8B%E5%AE%89%E5%9F%BA%E9%87%91%E7%8F%BE%E8%B9%A4-15%E6%AA%94%E6%AC%8A%E5%80%BC%E8%82%A1%E5%BD%88%E5%8A%9B%E8%B6%B3-060910059.html\">《熱門族群》國安基金現蹤，15檔權值股彈力足</a>\\n <span class=\"meta\">(時報資訊 2020/03/21 14:09)</span>\\n </li> <li>\\n <a data-ylk=\"itc:0;sec:symbol-news;elm:hdln;elmt:ct;g:1d87e7e0-eb47-3d8e-b039-34c81927afde\" href=\"/news/%E5%8F%B0%E6%B3%A53-23%E8%B5%B7%E9%A0%90%E5%AE%9A%E8%B2%B7%E5%9B%9E8-000%E5%BC%B5-%E5%8D%80%E9%96%93%E5%83%B925-90-124500551.html\">台泥3/23起預定買回8,000張，區間價25.90~61.95元</a>\\n <span class=\"meta\">(Moneydj理財網 2020/03/20 20:45)</span>\\n </li> <li>\\n <a data-ylk=\"itc:0;sec:symbol-news;elm:hdln;elmt:ct;g:42b96a7c-4d82-3d20-aa71-7c74b648f8f2\" href=\"/news/%E5%85%AC%E5%91%8A-%E5%8F%B0%E6%B3%A5%E8%91%A3%E4%BA%8B%E6%9C%83%E6%B1%BA%E8%AD%B0%E8%B2%B7%E5%9B%9E%E5%BA%AB%E8%97%8F%E8%82%A1-112351669.html\">【公告】台泥董事會決議買回庫藏股</a>\\n <span class=\"meta\">(中央社 2020/03/20 19:23)</span>\\n </li> <li>\\n <a data-ylk=\"itc:0;sec:symbol-news;elm:hdln;elmt:ct;g:cf9c2354-a50a-3d9b-a8e4-1551ad4dfde8\" href=\"/news/%E5%85%AC%E5%91%8A-%E5%8F%B0%E6%B3%A5%E8%91%A3%E4%BA%8B%E6%9C%83%E6%B1%BA%E8%AD%B0%E5%8F%AC%E9%96%8B109%E5%B9%B4%E8%82%A1%E6%9D%B1%E5%B8%B8%E6%9C%83-112148412.html\">【公告】台泥董事會決議召開109年股東常會</a>\\n <span class=\"meta\">(中央社 2020/03/20 19:21)</span>\\n </li> </ul>\\n </div>\\n <div class=\"ft\">\\n </div>\\n </div>\\n <div class=\"ad\">\\n <div class=\"hd\">廣告</div>\\n <div class=\"bd\">\\n           <div id=\"boxLREC\"><div id=\"tgtLREC\"></div></div> </div>\\n </div>\\n</div> <p>\\n<table width=\"750\" border=\"0\" cellpadding=\"0\" cellspacing=\"0\">\\n<tr><td>\\n<!--START:YSM CM MODULE-->\\n<link href=\\'https://s.yimg.com/ud/others/stock/ysm_gemini_q_v1.css\\' rel=\\'stylesheet\\' type=\\'text/css\\'>\\n<link href=\\'https://s.yimg.com/f/i/tw/ysm/hybrid/hybrid_stock02_big5.css\\' rel=\\'stylesheet\\' type=\\'text/css\\'>\\n<div style=\"display: block;\" id=\"ysmcm\">\\n    <div class=\"cont\">\\n        <table class=\"kw\" border=\"0\" cellpadding=\"0\" cellspacing=\"0\" width=\"100%\">\\n            <tbody>\\n                <tr>\\n                    <td width=\"100\">相關贊助網站</td>\\n                    <td align=\"right\">\\n                    </td>\\n                </tr>\\n            </tbody>\\n        </table>\\n    </div>\\n</div>\\n<!--END:YSM CM MODULE-->\\n</td></tr></table>\\n</p>\\n<!-- jurisdiction headers --><!-- x-jurisdiction-type : WORLD -->\\n<!-- Begin comScore Tag --> \\n<script>\\n  var fireComscoreBeacon = function (cs_ucfr) {\\n      var comscoreData = {\\n          c1: \"2\",\\n          c2: \"7241469\",\\n          c5: \"152958415\",\\n          c7: \"https%3A%2F%2Ftw.stock.yahoo.com%252fq%252fq%253fs%253d1101\"\\n      };\\n\\n      if (cs_ucfr === 0 || cs_ucfr === 1) {\\n          comscoreData.cs_ucfr = cs_ucfr;\\n      }\\n\\n      // fire your comscore beacon here\\n      window._comscore = window._comscore || [];\\n      window._comscore.push(comscoreData);\\n\\n      (function() {\\n          var s = document.createElement(\"script\"),\\n              el = document.getElementsByTagName(\"script\")[0];\\n          s.async = true;\\n          s.src = \"https://s.yimg.com/lq\" + \"/lib/3pm/cs_0.2.js\";\\n          el.parentNode.insertBefore(s, el);\\n      })();\\n  };\\n\\n  var fetchConsentData = function (func, name, version) {\\n      if (typeof window[func] !== \\'function\\') {\\n          console.log(\\'please check your cmp.js version\\');\\n          return Promise.reject();\\n      }\\n\\n      return new Promise(function (resolve) {\\n          window[func](name, version, function (response, success) {\\n              if (success && response) {\\n                  resolve(response);\\n              }\\n              resolve({});\\n          });\\n      });\\n  };\\n\\n  Promise.all([\\n      fetchConsentData(\\'__cmp\\', \\'getVendorConsents\\', 1),\\n      fetchConsentData(\\'__uspapi\\', \\'getDoNotSell\\', 1)\\n  ])\\n  .then(function (responses) {\\n      var COMSCORE_VENDOR_ID = 77;\\n      var vendorConsentData = responses[0];\\n      var userConsentData = responses[1];\\n      var cs_ucfr = null;\\n\\n      if (typeof userConsentData.doNotSell === \\'boolean\\') {\\n          cs_ucfr = userConsentData.doNotSell ? 0 : 1;\\n      }\\n\\n      if (cs_ucfr !== 0 && vendorConsentData.gdprApplies && vendorConsentData.vendorConsents) {\\n          cs_ucfr = vendorConsentData.vendorConsents[COMSCORE_VENDOR_ID] ? 1 : 0;\\n      }\\n      return cs_ucfr;\\n  })\\n  .catch(function (ex) {\\n      console.log(\\'fetchConsentData failed \\', ex);\\n  })\\n  .then(fireComscoreBeacon)\\n  YUI().use(\\'node\\',function(Y){\\n    if(Y.one(\\'#yuhead-sform-searchfield\\')){\\n      Y.one(\\'#yuhead-sform-searchfield\\').set(\\'value\\',document.getElementById(\\'yuhead-sform-searchfield\\').getAttribute(\"data-sh\"));\\n    }\\n  })\\n</script>\\n<noscript><img src=\"https://sb.scorecardresearch.com/p?c1=2&c2=7241469&c7=https%3A%2F%2Ftw.stock.yahoo.com%252fq%252fq%253fs%253d1101&c5=152958415&cv=2.0&cj=1\" width=\"1\" height=\"1\" alt=\"\"/></noscript>\\n<!-- End comScore Tag -->\\n\\n<table width=\"750\" border=\"0\" align=\"center\" cellpadding=\"0\" cellspacing=\"0\"> \\n <tr>\\n <td height=\"90\" valign=\"bottom\">\\n<DIV id=yhtw_mastfoot>\\n<div class=\"ln\">Yahoo Finance \\n<a href=\"https://policies.yahoo.com/tw/zh-hant/yahoo/terms/utos/\">服務條款</a> \\n<a href=\"https://policies.yahoo.com/tw/zh-hant/yahoo/privacy/\">隱私權</a> \\n</div>\\n<div class=\"other\">\\n<p>台股資料來源<a href=\"http://www.tse.com.tw/zh/\" target=\"_blank\">臺灣證券交易所</a>、<a href=\"http://www.taifex.com.tw\" target=\"_blank\">臺灣期貨交易所</a>及<a href=\"http://www.tpex.org.tw/web/\" target=\"_blank\">財團法人中華民國證券櫃檯買賣中心</a>。國際股市資料來源請參考<a href=\"https://help.yahoo.com/kb/finance-for-desktop/SLN2310.html\" target=\"_blank\">Yahoo Finance</a>。使用Yahoo奇摩股市服務前，請您詳閱相關<a href=\"https://tw.help.yahoo.com/kb/stock-tw-web/SLN28774.html?impressions=true\" target=\"_blank\">使用規範與聲明</a>。</p>\\n</div>\\n</DIV>\\n  </td>\\n </tr>\\n</table>\\n<script type=\"application/javascript\">(function(w,d,t,r,u){w[u]=w[u]||[];w[u].push({\\'projectId\\':\\'10000\\',\\'properties\\':{\\'pixelId\\':\\'428726\\',\\'qstrings\\':{\\'country\\':\\'tw\\', \\'property\\':\\'stock\\', \\'tag\\':\\'\\'}}});var s=d.createElement(t);s.src=r;s.async=true;s.onload=s.onreadystatechange=function(){var y,rs=this.readyState,c=w[u];if(rs&&rs!=\"complete\"&&rs!=\"loaded\"){return}try{y=YAHOO.ywa.I13N.fireBeacon;w[u]=[];w[u].push=function(p){y([p])};y(c)}catch(e){}};var scr=d.getElementsByTagName(t)[0],par=scr.parentNode;par.insertBefore(s,scr)})(window,document,\"script\",\"https://s.yimg.com/wi/ytc.js\",\"dotq\");</script>\\n<noscript>\\n    <img src=\"https://geo.yahoo.com/b?s=152958415\" height=\"1\" width=\"1\" />\\n</noscript>\\n</center>\\n\\n</body><script src=\"https://s.yimg.com/f/i/tw/mb/universal_header/uh_tw_v11.js\" type=\"text/javascript\"></script>\\n   <script type=\"text/javascript\">\\n       if (window.DARLA && window.DARLA_CONFIG) {\\n          DARLA.config(DARLA_CONFIG);\\n          DARLA.event( \"AUTO\" );\\n       }\\n\\n     </script>\\n<script>\\n var tracked_mods = {\\n     \\'researchNews\\': \\'symbol-news\\'\\n };\\n stockSiteRapid.addModules(tracked_mods);\\n</script>\\n\\n<!-- Gemini Ads Beacon -->\\n<script type=\"text/javascript\">\\n</script>\\n</html>\\n\\n<!-- w104.finance.tp2.yahoo.com Sat Mar 21 06:57:44 UTC 2020 -->\\n'"
      ]
     },
     "execution_count": 14,
     "metadata": {},
     "output_type": "execute_result"
    }
   ],
   "source": [
    "response.text"
   ]
  },
  {
   "cell_type": "code",
   "execution_count": 15,
   "metadata": {},
   "outputs": [],
   "source": [
    "from bs4 import BeautifulSoup\n",
    "\n",
    "soup = BeautifulSoup(response.text, 'lxml')"
   ]
  },
  {
   "cell_type": "code",
   "execution_count": 16,
   "metadata": {},
   "outputs": [
    {
     "data": {
      "text/plain": [
       "<table border=\"0\" cellpadding=\"1\" cellspacing=\"0\" width=\"750\">\n",
       "<tr bgcolor=\"#FFF0C1\">\n",
       "<td align=\"left\" width=\"540\">\n",
       "\t      \n",
       "\t</td>\n",
       "<td align=\"right\" width=\"160\"><font class=\"tt\" color=\"#3333FF\">　資料日期: 109/03/20</font></td>\n",
       "</tr>\n",
       "</table>"
      ]
     },
     "execution_count": 16,
     "metadata": {},
     "output_type": "execute_result"
    }
   ],
   "source": [
    "soup.find('table')"
   ]
  },
  {
   "cell_type": "code",
   "execution_count": 18,
   "metadata": {},
   "outputs": [],
   "source": [
    "tables = soup.find_all('table')"
   ]
  },
  {
   "cell_type": "code",
   "execution_count": 22,
   "metadata": {},
   "outputs": [],
   "source": [
    "table = tables[2]"
   ]
  },
  {
   "cell_type": "code",
   "execution_count": 25,
   "metadata": {},
   "outputs": [
    {
     "name": "stdout",
     "output_type": "stream",
     "text": [
      "股票代號\n",
      "時間\n",
      "成交\n",
      "買進\n",
      "賣出\n",
      "漲跌\n",
      "張數\n",
      "昨收\n",
      "開盤\n",
      "最高\n",
      "最低\n"
     ]
    }
   ],
   "source": [
    "ths = table.find_all('th')\n",
    "for th in ths[:-1]:\n",
    "    print(th.text)"
   ]
  },
  {
   "cell_type": "code",
   "execution_count": 28,
   "metadata": {
    "scrolled": true
   },
   "outputs": [
    {
     "name": "stdout",
     "output_type": "stream",
     "text": [
      "1101台泥\n",
      "14:30\n",
      "36.95\n",
      "36.95\n",
      "-\n",
      "▲3.35\n",
      "32,770\n",
      "33.60\n",
      "34.15\n",
      "36.95\n",
      "34.15\n"
     ]
    }
   ],
   "source": [
    "tds = table.find_all('td')\n",
    "for td in tds[:-1]:\n",
    "    print(td.text.strip().replace('加到投資組合', ''))"
   ]
  },
  {
   "cell_type": "code",
   "execution_count": 37,
   "metadata": {},
   "outputs": [
    {
     "name": "stdout",
     "output_type": "stream",
     "text": [
      "1101台泥\n",
      "14:30\n",
      "36.95\n",
      "36.95\n",
      "-\n",
      "▲3.35\n",
      "32,770\n",
      "33.60\n",
      "34.15\n",
      "36.95\n",
      "34.15\n",
      "--------------------\n",
      "1102亞泥\n",
      "14:30\n",
      "39.20\n",
      "39.20\n",
      "-\n",
      "▲3.55\n",
      "13,761\n",
      "35.65\n",
      "36.05\n",
      "39.20\n",
      "36.00\n",
      "--------------------\n",
      "1103嘉泥\n",
      "13:30\n",
      "13.30\n",
      "13.30\n",
      "13.85\n",
      "▽0.20\n",
      "8,163\n",
      "13.50\n",
      "14.00\n",
      "14.85\n",
      "13.30\n",
      "--------------------\n"
     ]
    }
   ],
   "source": [
    "from bs4 import BeautifulSoup\n",
    "import requests\n",
    "import time\n",
    "\n",
    "url = 'https://tw.stock.yahoo.com/q/q'\n",
    "headers = {\n",
    "    'user-agent': 'Mozilla/5.0 (Macintosh; Intel Mac OS X 10_14_6) AppleWebKit/537.36 (KHTML, like Gecko) Chrome/80.0.3987.149 Safari/537.36'\n",
    "}\n",
    "\n",
    "stock_id_list = ['1101', '1102', '1103']\n",
    "\n",
    "def get_stock_price(stock_id):\n",
    "    payload = {\n",
    "        's': stock_id\n",
    "    }\n",
    "    \n",
    "    response = requests.get(url, params=payload, headers=headers)\n",
    "    response.raise_for_status()\n",
    "    \n",
    "    soup = BeautifulSoup(response.text, 'lxml')\n",
    "    tables = soup.find_all('table')\n",
    "    table = tables[2]\n",
    "\n",
    "    tds = table.find_all('td')\n",
    "    \n",
    "    for td in tds[:-1]:\n",
    "        print(td.text.strip().replace('加到投資組合', ''))\n",
    "    \n",
    "for stock_id in stock_id_list:\n",
    "    \n",
    "    try:\n",
    "        get_stock_price(stock_id)\n",
    "    except Exception as err:\n",
    "        print('{}失敗：{}'.format(stock_id, err))\n",
    "      \n",
    "    print('-'*20)\n",
    "    time.sleep(3)\n",
    "    "
   ]
  },
  {
   "cell_type": "code",
   "execution_count": null,
   "metadata": {},
   "outputs": [],
   "source": []
  }
 ],
 "metadata": {
  "kernelspec": {
   "display_name": "Python 3",
   "language": "python",
   "name": "python3"
  },
  "language_info": {
   "codemirror_mode": {
    "name": "ipython",
    "version": 3
   },
   "file_extension": ".py",
   "mimetype": "text/x-python",
   "name": "python",
   "nbconvert_exporter": "python",
   "pygments_lexer": "ipython3",
   "version": "3.7.4"
  }
 },
 "nbformat": 4,
 "nbformat_minor": 2
}
