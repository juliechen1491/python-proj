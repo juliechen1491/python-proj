{
 "cells": [
  {
   "cell_type": "code",
   "execution_count": 1,
   "metadata": {},
   "outputs": [],
   "source": [
    "price = 60"
   ]
  },
  {
   "cell_type": "code",
   "execution_count": 3,
   "metadata": {},
   "outputs": [
    {
     "name": "stdout",
     "output_type": "stream",
     "text": [
      "可持續持有\n"
     ]
    }
   ],
   "source": [
    "if price < 40:\n",
    "    print('可買進')\n",
    "elif price >=40 and price < 80:\n",
    "    print('可持續持有')\n",
    "else:\n",
    "    print('可賣出')"
   ]
  },
  {
   "cell_type": "code",
   "execution_count": 8,
   "metadata": {},
   "outputs": [
    {
     "name": "stdout",
     "output_type": "stream",
     "text": [
      "1\n",
      "2\n",
      "3\n",
      "4\n",
      "5\n",
      "6\n",
      "7\n",
      "8\n",
      "9\n",
      "10\n"
     ]
    }
   ],
   "source": [
    "for i in range(1, 11):\n",
    "    \n",
    "    if i == 6:\n",
    "        pass\n",
    "        \n",
    "    print(i)"
   ]
  },
  {
   "cell_type": "code",
   "execution_count": 11,
   "metadata": {},
   "outputs": [
    {
     "name": "stdout",
     "output_type": "stream",
     "text": [
      "2021年，本息為107000.0元\n",
      "2021年，本息為107000元\n",
      "2022年，本息為114490.0元\n",
      "2022年，本息為114490元\n",
      "2023年，本息為122504.3元\n",
      "2023年，本息為122504元\n",
      "2024年，本息為131079.60100000002元\n",
      "2024年，本息為131080元\n",
      "2025年，本息為140255.17307000005元\n",
      "2025年，本息為140255元\n",
      "2026年，本息為150073.03518490007元\n",
      "2026年，本息為150073元\n",
      "2027年，本息為160578.14764784308元\n",
      "2027年，本息為160578元\n",
      "2028年，本息為171818.61798319212元\n",
      "2028年，本息為171819元\n",
      "2029年，本息為183845.92124201558元\n",
      "2029年，本息為183846元\n",
      "2030年，本息為196715.1357289567元\n",
      "2030年，本息為196715元\n"
     ]
    }
   ],
   "source": [
    "年份 = 2020\n",
    "本金 = 100000\n",
    "年利率 = 0.07\n",
    "\n",
    "for i in range(10):\n",
    "    \n",
    "    本金 = 本金 * (1 + 年利率)\n",
    "    年份 = 年份 + 1\n",
    "    \n",
    "    print(str(年份) + '年，本息為' + str(本金) + '元')\n",
    "    print('{}年，本息為{}元'.format(年份, round(本金)))"
   ]
  },
  {
   "cell_type": "code",
   "execution_count": 13,
   "metadata": {},
   "outputs": [
    {
     "name": "stdout",
     "output_type": "stream",
     "text": [
      "請輸入數字：2\n",
      "請輸入數字：5\n"
     ]
    }
   ],
   "source": [
    "x = 0\n",
    "\n",
    "while x < 10:\n",
    "    \n",
    "    x = int(input('請輸入數字：'))\n",
    "    \n",
    "    if x == 2:\n",
    "        continue\n",
    "    elif x == 5:\n",
    "        break\n",
    "        \n",
    "    print(x)"
   ]
  },
  {
   "cell_type": "code",
   "execution_count": 14,
   "metadata": {},
   "outputs": [
    {
     "name": "stdout",
     "output_type": "stream",
     "text": [
      "今天存多少？500\n",
      "第1天存了500元，累計500元\n",
      "今天存多少？600\n",
      "第2天存了600元，累計1100元\n",
      "今天存多少？1000\n",
      "第3天存了1000元，累計2100元\n",
      "存錢筒存滿了\n"
     ]
    }
   ],
   "source": [
    "存錢筒 = 0\n",
    "天數 = 0\n",
    "\n",
    "while 存錢筒 < 2000:\n",
    "    \n",
    "    金額 = int(input('今天存多少？'))\n",
    "    \n",
    "    存錢筒 += 金額\n",
    "    天數 += 1\n",
    "    \n",
    "    print('第{}天存了{}元，累計{}元'.format(天數, 金額, 存錢筒))\n",
    "    \n",
    "print('存錢筒存滿了')"
   ]
  },
  {
   "cell_type": "code",
   "execution_count": null,
   "metadata": {},
   "outputs": [],
   "source": []
  }
 ],
 "metadata": {
  "kernelspec": {
   "display_name": "Python 3",
   "language": "python",
   "name": "python3"
  },
  "language_info": {
   "codemirror_mode": {
    "name": "ipython",
    "version": 3
   },
   "file_extension": ".py",
   "mimetype": "text/x-python",
   "name": "python",
   "nbconvert_exporter": "python",
   "pygments_lexer": "ipython3",
   "version": "3.7.4"
  }
 },
 "nbformat": 4,
 "nbformat_minor": 2
}
