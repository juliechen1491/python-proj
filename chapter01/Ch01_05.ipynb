{
 "cells": [
  {
   "cell_type": "code",
   "execution_count": 8,
   "metadata": {},
   "outputs": [
    {
     "name": "stdout",
     "output_type": "stream",
     "text": [
      "Task 1\n",
      "Task 2\n",
      "Task 3\n",
      "Task 4\n",
      "Task 5"
     ]
    }
   ],
   "source": [
    "with open('sample01.txt', 'r') as file:\n",
    "    \n",
    "    for line in file:\n",
    "        print(line, end='')"
   ]
  },
  {
   "cell_type": "code",
   "execution_count": 11,
   "metadata": {},
   "outputs": [],
   "source": [
    "with open('sample01.txt', 'w') as file:\n",
    "    file.write('Task 6')"
   ]
  },
  {
   "cell_type": "code",
   "execution_count": 13,
   "metadata": {},
   "outputs": [
    {
     "name": "stdout",
     "output_type": "stream",
     "text": [
      "['USD 300\\n', 'USD 600\\n', 'USD 150\\n', 'USD 200\\n', 'USD 300\\n', 'USD 500\\n', 'USD 200\\n', 'USD 300\\n', 'USD 3300\\n', 'USD 800\\n', 'USD 600']\n",
      "['JPY 2000\\n', 'JPY 12000\\n', 'JPY 8000\\n', 'JPY 20000\\n', 'JPY 15000\\n']\n"
     ]
    }
   ],
   "source": [
    "usd_list = []\n",
    "jpy_list = []\n",
    "\n",
    "with open('sample02.txt', 'r') as file:\n",
    "    for line in file:\n",
    "        if 'USD' in line:\n",
    "            usd_list.append(line)\n",
    "        elif 'JPY' in line:\n",
    "            jpy_list.append(line)\n",
    "            \n",
    "print(usd_list)\n",
    "print(jpy_list)\n",
    "\n",
    "with open('usd.txt', 'w') as file:\n",
    "    for c in usd_list:\n",
    "        file.write(c)\n",
    "\n",
    "with open('jpy.txt', 'w') as file:\n",
    "    for c in jpy_list:\n",
    "        file.write(c)"
   ]
  },
  {
   "cell_type": "code",
   "execution_count": null,
   "metadata": {},
   "outputs": [],
   "source": []
  }
 ],
 "metadata": {
  "kernelspec": {
   "display_name": "Python 3",
   "language": "python",
   "name": "python3"
  },
  "language_info": {
   "codemirror_mode": {
    "name": "ipython",
    "version": 3
   },
   "file_extension": ".py",
   "mimetype": "text/x-python",
   "name": "python",
   "nbconvert_exporter": "python",
   "pygments_lexer": "ipython3",
   "version": "3.7.4"
  }
 },
 "nbformat": 4,
 "nbformat_minor": 2
}
