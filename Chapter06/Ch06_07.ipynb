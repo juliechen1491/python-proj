{
 "cells": [
  {
   "cell_type": "markdown",
   "metadata": {},
   "source": [
    "# 用 LINE 傳送即時金價\n",
    "IFTTT網路服務平台：https://ifttt.com/"
   ]
  },
  {
   "cell_type": "code",
   "execution_count": 5,
   "metadata": {},
   "outputs": [],
   "source": [
    "import requests\n",
    "from bs4 import BeautifulSoup\n",
    "\n",
    "def get_gold_price():\n",
    "    \n",
    "    url = 'https://rate.bot.com.tw/gold?Lang=zh-TW'\n",
    "    \n",
    "    headers = {\n",
    "        'User-Agent': 'Mozilla/5.0 (Macintosh; Intel Mac OS X 10_14_6) AppleWebKit/537.36 (KHTML, like Gecko) Chrome/78.0.3904.108 Safari/537.36'\n",
    "    }\n",
    "\n",
    "    response = requests.get(url, headers=headers)\n",
    "    \n",
    "    soup = BeautifulSoup(response.text, 'lxml')\n",
    "    \n",
    "    掛牌時間 = soup.select_one(\"div.pull-left.trailer.text-info\").text.strip()\n",
    "    \n",
    "    tr_tags = soup.select('td.text-right')\n",
    "    黃金存摺賣出 = tr_tags[0].text\n",
    "    黃金存摺買進 = tr_tags[1].text\n",
    "    \n",
    "    幻彩條塊賣出 = soup.select_one('#ie11andabove > div > div.hasscript-div > table:nth-child(7) > tbody > tr:nth-child(1) > td:nth-child(7)')\n",
    "    幻彩條塊買進 = soup.select_one('#ie11andabove > div > div.hasscript-div > table:nth-child(7) > tbody > tr:nth-child(2) > td:nth-child(7)')\n",
    "    \n",
    "    event_url = 'https://maker.ifttt.com/trigger/gold_notification/with/key/efbQt58_rnyVf8xycO3s_N-3YRtPXX13LQg0QxNSdp4'\n",
    "\n",
    "    if int(黃金存摺賣出) < 1680:\n",
    "        \n",
    "        params = {\n",
    "            'value1': 掛牌時間,\n",
    "            'value2': '「黃金賣出」低於1680',\n",
    "            'value3': '最新牌價：{}'.format(黃金存摺賣出)\n",
    "        }\n",
    "        \n",
    "        requests.post(url=event_url, params=params)\n"
   ]
  },
  {
   "cell_type": "code",
   "execution_count": null,
   "metadata": {},
   "outputs": [],
   "source": [
    "import time\n",
    "\n",
    "while True:\n",
    "    get_gold_price()\n",
    "    time.sleep(600)"
   ]
  }
 ],
 "metadata": {
  "kernelspec": {
   "display_name": "Python 3",
   "language": "python",
   "name": "python3"
  },
  "language_info": {
   "codemirror_mode": {
    "name": "ipython",
    "version": 3
   },
   "file_extension": ".py",
   "mimetype": "text/x-python",
   "name": "python",
   "nbconvert_exporter": "python",
   "pygments_lexer": "ipython3",
   "version": "3.7.4"
  }
 },
 "nbformat": 4,
 "nbformat_minor": 2
}
